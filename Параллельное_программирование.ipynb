{
  "nbformat": 4,
  "nbformat_minor": 0,
  "metadata": {
    "colab": {
      "provenance": []
    },
    "kernelspec": {
      "name": "python3",
      "display_name": "Python 3"
    },
    "language_info": {
      "name": "python"
    }
  },
  "cells": [
    {
      "cell_type": "markdown",
      "source": [
        "Придуман для написания http серверов, чтобы обрабатывать большшое количество клиентов, не тратя большое количество ресурсов."
      ],
      "metadata": {
        "id": "gmSlHf6_Q7VU"
      }
    },
    {
      "cell_type": "code",
      "source": [
        "import time\n",
        "import random\n",
        "from enum import Enum, auto\n",
        "from threading import Thread # для создания потоков данных"
      ],
      "metadata": {
        "id": "1pqEPqZbUU5V"
      },
      "execution_count": null,
      "outputs": []
    },
    {
      "cell_type": "code",
      "execution_count": null,
      "metadata": {
        "id": "KMKunP6LQrCQ"
      },
      "outputs": [],
      "source": [
        "def random_delay():\n",
        "  return random.random() * 5\n",
        "\n",
        "\n",
        "\n",
        "def random_countdown():\n",
        "  return random.randrange(5)\n",
        "\n",
        "\n",
        "\n",
        "def launch_rocket(delay, countdown):\n",
        "  \"\"\"\n",
        "    delay - задежка\n",
        "    countdown - количество как бы подготовок перед запуском\n",
        "  \"\"\"\n",
        "  time.sleep(delay)\n",
        "  # reversed - чтение в обратном порядке\n",
        "  for i in reversed(range(countdown)):\n",
        "    print(f\"{i+1} ...\")\n",
        "    time.sleep(1)\n",
        "  print(\"Rocket launched!\")\n",
        "\n",
        "\n",
        "\n",
        "def rockets():\n",
        "  N = 10_000\n",
        "  return [\n",
        "      (random_delay(), random_countdown())\n",
        "      for _ in range(N)\n",
        "  ]\n",
        "\n",
        "\n",
        "def run_threads():\n",
        "  \"\"\"\n",
        "  target = передаем функцию\n",
        "  args - аргументы функции\n",
        "  \"\"\"\n",
        "  # добавляем потоки\n",
        "  threads = [\n",
        "      Thread(target=launch_rocket, args=(d, c))\n",
        "      for d, c in rockets()\n",
        "  ]\n",
        "  for t in threads: # пробегаемся по элементам потока\n",
        "    t.start() # запуск потока\n",
        "  for t in threads:\n",
        "    t.join() # джойним все потоки\n",
        "\n",
        "\n",
        "class State(Enum):\n",
        "  WAITING = auto()\n",
        "  COUNTING = auto()\n",
        "  LAUNCHING = auto()\n",
        "\n",
        "\n",
        "class Op(Enum):\n",
        "  WAIT = auto()\n",
        "  STOP = auto()\n",
        "\n",
        "\n",
        "class Launch:\n",
        "  def __init__(self, delay, countdown):\n",
        "    self.state = State.WAITING\n",
        "    self.delay = delay\n",
        "    self._countdown = countdown\n",
        "\n",
        "  def step(self):\n",
        "    if self._state is State.WAITING:\n",
        "      return Op.WAIT\n",
        "    if self._state is State.COUNTING:\n",
        "      print(f\"{self._countdown}...\")\n",
        "      self._countdown -= 1\n",
        "      if self._countdown == 0:\n",
        "        self._state = State.LAUNCHING\n",
        "      return Op.WAIT, 1\n",
        "    if self._state is State.LAUNCHING:\n",
        "      print(\"Rocket launched!\")\n",
        "      return Op.STOP, None\n",
        "    assert False, self._state"
      ]
    },
    {
      "cell_type": "code",
      "source": [
        "class Op(Enum):\n",
        "  WAIT = auto()\n",
        "  STOP = auto()\n",
        "\n",
        "Op.STOP"
      ],
      "metadata": {
        "colab": {
          "base_uri": "https://localhost:8080/"
        },
        "id": "tCQY1qu6YQHU",
        "outputId": "d909e8b5-01f9-4d24-e62a-b91612c4918b"
      },
      "execution_count": null,
      "outputs": [
        {
          "output_type": "execute_result",
          "data": {
            "text/plain": [
              "<Op.STOP: 2>"
            ]
          },
          "metadata": {},
          "execution_count": 56
        }
      ]
    },
    {
      "cell_type": "code",
      "source": [
        "launch_rocket(2, 3)"
      ],
      "metadata": {
        "colab": {
          "base_uri": "https://localhost:8080/"
        },
        "id": "9hx2YgcYRttm",
        "outputId": "4e3c27e2-3b86-4ae1-cd7a-ce703ceebb22"
      },
      "execution_count": null,
      "outputs": [
        {
          "output_type": "stream",
          "name": "stdout",
          "text": [
            "3 ...\n",
            "2 ...\n",
            "1 ...\n",
            "Rocket launched!\n"
          ]
        }
      ]
    },
    {
      "cell_type": "markdown",
      "source": [
        "Теперь мы хотим запускать все 10.000 ракет сразу."
      ],
      "metadata": {
        "id": "xnObZbv3S-xg"
      }
    },
    {
      "cell_type": "code",
      "source": [
        "for d, c in rockets():\n",
        "  launch_rocket(d, c)"
      ],
      "metadata": {
        "id": "EYvDxXkdR9jC"
      },
      "execution_count": null,
      "outputs": []
    },
    {
      "cell_type": "code",
      "source": [
        "# запускаем 10.000 потоков сразу, но он не такой легкий, каким мы хотел бы это получить\n",
        "run_threads()"
      ],
      "metadata": {
        "id": "tMgmxcqbV7l7"
      },
      "execution_count": null,
      "outputs": []
    },
    {
      "cell_type": "markdown",
      "source": [
        "Многопоточность. Ее мы можем использовать, чтобы значительно ускорить работы программ."
      ],
      "metadata": {
        "id": "iXi2EcuIoDc9"
      }
    },
    {
      "cell_type": "code",
      "source": [
        "import _thread # низкоуровневая параллельность создания нити\n",
        "import time\n",
        "\n",
        "# Асинхронный запуск функции, как нити\n",
        "def print_time(threadName, delay):\n",
        "  count = 0\n",
        "  while count < 5:\n",
        "    time.sleep(delay)\n",
        "    count += 1\n",
        "    print(f\"{threadName}, {time.ctime(time.time())}\")\n",
        "\n",
        "# Создаем нити\n",
        "try:\n",
        "  # Передаем функцию и аргументы этой функции\n",
        "  _thread.start_new_thread(print_time, (\"Thread-1\", 2, ) )\n",
        "  _thread.start_new_thread(print_time, (\"Thread-2\", 4, ) )\n",
        "except:\n",
        "  print(\"Error: unable to start thread\")\n",
        "\n",
        "while 1:\n",
        "  pass"
      ],
      "metadata": {
        "colab": {
          "base_uri": "https://localhost:8080/",
          "height": 401
        },
        "id": "6suzrlZtI2rt",
        "outputId": "dda815bd-5ded-4fce-953b-522decea148d"
      },
      "execution_count": null,
      "outputs": [
        {
          "output_type": "stream",
          "name": "stdout",
          "text": [
            "Thread-1, Mon Jan 29 21:43:00 2024\n",
            "Thread-2, Mon Jan 29 21:43:02 2024\n",
            "Thread-1, Mon Jan 29 21:43:02 2024\n",
            "Thread-1, Mon Jan 29 21:43:04 2024\n",
            "Thread-2, Mon Jan 29 21:43:06 2024\n",
            "Thread-1, Mon Jan 29 21:43:06 2024\n",
            "Thread-1, Mon Jan 29 21:43:08 2024\n",
            "Thread-2, Mon Jan 29 21:43:10 2024\n",
            "Thread-2, Mon Jan 29 21:43:14 2024\n",
            "Thread-2, Mon Jan 29 21:43:18 2024\n"
          ]
        },
        {
          "output_type": "error",
          "ename": "KeyboardInterrupt",
          "evalue": "",
          "traceback": [
            "\u001b[0;31m---------------------------------------------------------------------------\u001b[0m",
            "\u001b[0;31mKeyboardInterrupt\u001b[0m                         Traceback (most recent call last)",
            "\u001b[0;32m<ipython-input-18-c66b226bb277>\u001b[0m in \u001b[0;36m<cell line: 20>\u001b[0;34m()\u001b[0m\n\u001b[1;32m     18\u001b[0m   \u001b[0mprint\u001b[0m\u001b[0;34m(\u001b[0m\u001b[0;34m\"Error: unable to start thread\"\u001b[0m\u001b[0;34m)\u001b[0m\u001b[0;34m\u001b[0m\u001b[0;34m\u001b[0m\u001b[0m\n\u001b[1;32m     19\u001b[0m \u001b[0;34m\u001b[0m\u001b[0m\n\u001b[0;32m---> 20\u001b[0;31m \u001b[0;32mwhile\u001b[0m \u001b[0;36m1\u001b[0m\u001b[0;34m:\u001b[0m\u001b[0;34m\u001b[0m\u001b[0;34m\u001b[0m\u001b[0m\n\u001b[0m\u001b[1;32m     21\u001b[0m   \u001b[0;32mpass\u001b[0m\u001b[0;34m\u001b[0m\u001b[0;34m\u001b[0m\u001b[0m\n",
            "\u001b[0;31mKeyboardInterrupt\u001b[0m: "
          ]
        }
      ]
    },
    {
      "cell_type": "code",
      "source": [
        "import threading # позволяет взаимодействовать с нитью\n",
        "import time\n",
        "\n",
        "\n",
        "class MyThread(threading.Thread): # -> объект нити и за счет этого мы можем с ней взаимодействовать\n",
        "  def __init__(self, name, delay):\n",
        "    threading.Thread.__init__(self)\n",
        "    self.name = name\n",
        "    self.delay = delay\n",
        "\n",
        "  def run(self):\n",
        "    print(\"Starting thread %s.\" % self.name)\n",
        "    thread_count_down(self.name, self.delay)\n",
        "    print(\"Finished thread %s.\" % self.name)\n",
        "\n",
        "\n",
        "def thread_count_down(name, delay):\n",
        "  counter = 5\n",
        "\n",
        "  while counter:\n",
        "    time.sleep(delay)\n",
        "    print(\"Thread %s counting down: %i...\" % (name, counter))\n",
        "    counter -= 1"
      ],
      "metadata": {
        "id": "_IWudg9WMMU8"
      },
      "execution_count": null,
      "outputs": []
    },
    {
      "cell_type": "code",
      "source": [
        "import time\n",
        "\n",
        "start = time.perf_counter() # позволяет замерить время работы функции (1)\n",
        "\n",
        "def do_something():\n",
        "  print(\"Sleeping 1 second: \")\n",
        "  time.sleep(1)\n",
        "  print(\"Done Sleeping...\")\n",
        "\n",
        "do_something()\n",
        "\n",
        "finish = time.perf_counter() # (2)"
      ],
      "metadata": {
        "colab": {
          "base_uri": "https://localhost:8080/"
        },
        "id": "fRF6jGc4PGN6",
        "outputId": "e12c0253-00c4-4edb-af6d-8ea09e30d2ae"
      },
      "execution_count": null,
      "outputs": [
        {
          "output_type": "stream",
          "name": "stdout",
          "text": [
            "Sleeping 1 second: \n",
            "DOne Sleeping...\n"
          ]
        }
      ]
    }
  ]
}